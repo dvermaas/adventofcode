{
 "cells": [
  {
   "cell_type": "markdown",
   "source": [
    "# Day 1 part 1"
   ],
   "metadata": {
    "collapsed": false
   },
   "id": "cc142bb94a43f048"
  },
  {
   "cell_type": "code",
   "execution_count": null,
   "outputs": [],
   "source": [
    "def sum_first_last_int(lines: list) -> int:\n",
    "    total = 0\n",
    "    for line in lines:\n",
    "        digits = [char for char in line if char.isdigit()]\n",
    "        total += int(digits[0] + digits[-1])\n",
    "    return total\n",
    "\n",
    "data = open(\"input.txt\").read().splitlines()\n",
    "print(f\"Part 1: {sum_first_last_int(data)}\")"
   ],
   "metadata": {
    "collapsed": false
   },
   "id": "b6f249ce66c89474"
  },
  {
   "cell_type": "markdown",
   "source": [
    "# Day 1 part 2"
   ],
   "metadata": {
    "collapsed": false
   },
   "id": "d806490215d6ea7"
  },
  {
   "cell_type": "code",
   "execution_count": null,
   "outputs": [],
   "source": [
    "numbers = [\"one\", \"two\", \"three\", \"four\", \"five\",\n",
    "           \"six\", \"seven\", \"eight\", \"nine\"]\n",
    "\n",
    "def replace_strings(lines: list) -> list:\n",
    "    output_lines = []\n",
    "    for line in lines:\n",
    "        for i, number_str in enumerate(numbers, 1):\n",
    "            line = line.replace(number_str, f\"{number_str[0] + str(i) + number_str[-1]}\")\n",
    "        output_lines.append(line)\n",
    "    return output_lines\n",
    "            \n",
    "print(f\"Part 2: {sum_first_last_int(replace_strings(data))}\")"
   ],
   "metadata": {
    "collapsed": false
   },
   "id": "3d1c2f92e6cbdc21"
  },
  {
   "cell_type": "code",
   "execution_count": null,
   "outputs": [],
   "source": [],
   "metadata": {
    "collapsed": false
   },
   "id": "e316518a40508ed4"
  }
 ],
 "metadata": {
  "kernelspec": {
   "display_name": "Python 3",
   "language": "python",
   "name": "python3"
  },
  "language_info": {
   "codemirror_mode": {
    "name": "ipython",
    "version": 2
   },
   "file_extension": ".py",
   "mimetype": "text/x-python",
   "name": "python",
   "nbconvert_exporter": "python",
   "pygments_lexer": "ipython2",
   "version": "2.7.6"
  }
 },
 "nbformat": 4,
 "nbformat_minor": 5
}
