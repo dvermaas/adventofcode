{
 "cells": [
  {
   "cell_type": "markdown",
   "source": [
    "# Day 2 part 1"
   ],
   "metadata": {
    "collapsed": false
   },
   "id": "f2d7db2fe1f97cb"
  },
  {
   "cell_type": "code",
   "execution_count": 32,
   "outputs": [
    {
     "name": "stdout",
     "output_type": "stream",
     "text": [
      "Part 1: [11, 24, 25, 59]\n"
     ]
    }
   ],
   "source": [
    "def parse_data(games: list) -> list:\n",
    "    out = list()\n",
    "    for game in games:\n",
    "        _, game_data = game.split(\":\")\n",
    "        game_total = {\"red\" : 0, \"green\": 0, \"blue\": 0}\n",
    "        for sub_game in game_data.split(\";\"):\n",
    "            for cube_data in sub_game.split(\",\"):\n",
    "                _, number, color = cube_data.split(\" \")\n",
    "                game_total[color] += int(number)\n",
    "        out.append(game_total)\n",
    "    return sum(out)\n",
    "\n",
    "def get_possible_games(games: list, rgb_dict: dict) -> int:\n",
    "    out = list()\n",
    "    for i, game_results in enumerate(games, 1):\n",
    "        is_valid = True\n",
    "        for key, value in game_results.items():\n",
    "            if value > rgb_dict[key]:\n",
    "                is_valid = False\n",
    "        if is_valid:\n",
    "            out.append(i)\n",
    "    return out\n",
    "\n",
    "data = open(\"input.txt\").read().splitlines()\n",
    "rgb_total = {\"red\" : 12, \"green\": 13, \"blue\": 14}\n",
    "print(f\"Part 1: {get_possible_games(parse_data(data), rgb_total)}\")"
   ],
   "metadata": {
    "collapsed": false,
    "ExecuteTime": {
     "end_time": "2023-12-11T23:18:15.498406600Z",
     "start_time": "2023-12-11T23:18:15.492405Z"
    }
   },
   "id": "36a873d3c5230d92"
  },
  {
   "cell_type": "code",
   "execution_count": 28,
   "outputs": [],
   "source": [],
   "metadata": {
    "collapsed": false,
    "ExecuteTime": {
     "end_time": "2023-12-11T23:16:55.359113200Z",
     "start_time": "2023-12-11T23:16:55.347607900Z"
    }
   },
   "id": "caa35f7f436a74e"
  },
  {
   "cell_type": "code",
   "execution_count": null,
   "outputs": [],
   "source": [],
   "metadata": {
    "collapsed": false
   },
   "id": "b5f299b93f1260c3"
  }
 ],
 "metadata": {
  "kernelspec": {
   "display_name": "Python 3",
   "language": "python",
   "name": "python3"
  },
  "language_info": {
   "codemirror_mode": {
    "name": "ipython",
    "version": 2
   },
   "file_extension": ".py",
   "mimetype": "text/x-python",
   "name": "python",
   "nbconvert_exporter": "python",
   "pygments_lexer": "ipython2",
   "version": "2.7.6"
  }
 },
 "nbformat": 4,
 "nbformat_minor": 5
}
